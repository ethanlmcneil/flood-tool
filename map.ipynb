{
 "cells": [
  {
   "cell_type": "code",
   "execution_count": 7,
   "metadata": {},
   "outputs": [],
   "source": [
    "import folium\n",
    "import sys\n",
    "sys.path.append('..')\n",
    "import flood_tool as ft\n",
    "import pandas as pd\n",
    "from IPython.display import display\n",
    "import geopandas"
   ]
  },
  {
   "cell_type": "code",
   "execution_count": null,
   "metadata": {},
   "outputs": [],
   "source": [
    "pt=pd.read_csv('resources/postcodes_labelled.csv')\n",
    "pt=pt.dropna()\n",
    "typical_path = \"example_data/typical_day.csv\"\n",
    "wet_path = \"example_data/wet_day.csv\"\n",
    "station_path = \"resources/stations.csv\""
   ]
  },
  {
   "cell_type": "markdown",
   "metadata": {},
   "source": []
  },
  {
   "cell_type": "code",
   "execution_count": null,
   "metadata": {},
   "outputs": [],
   "source": [
    "ft.plot_risk_map_latlon_fig(pt,dx=0.01,figsize=[20,5])"
   ]
  },
  {
   "cell_type": "markdown",
   "metadata": {},
   "source": []
  },
  {
   "cell_type": "code",
   "execution_count": null,
   "metadata": {},
   "outputs": [],
   "source": [
    "ft.plot_historical_flood_map_latlon_fig(pt,dx=0.01,figsize=[20,5])"
   ]
  },
  {
   "cell_type": "code",
   "execution_count": null,
   "metadata": {},
   "outputs": [],
   "source": [
    "sector_path='../flood_tool/resources/sector_data.csv'\n",
    "postcode_path='../flood_tool/resources/postcodes_labelled.csv'\n",
    "postcode_proverty=ft.process_proverty(sector_path,postcode_path)\n",
    "ft.plot_postcode_headcount_map_latlon_fig(postcode_proverty,dx=0.01,figsize=[20,5])"
   ]
  },
  {
   "cell_type": "code",
   "execution_count": null,
   "metadata": {},
   "outputs": [],
   "source": [
    "ft.plot_postcode_household_map_latlon_fig(postcode_proverty,dx=0.01,figsize=[20,5])"
   ]
  },
  {
   "cell_type": "code",
   "execution_count": null,
   "metadata": {},
   "outputs": [],
   "source": [
    "ft.plot_houseprice_map_latlon_fig(pt,dx=0.01,figsize=[20,5])"
   ]
  },
  {
   "cell_type": "code",
   "execution_count": null,
   "metadata": {},
   "outputs": [],
   "source": [
    "ft.potential_map(typical_path,wet_path,station_path)"
   ]
  },
  {
   "cell_type": "code",
   "execution_count": null,
   "metadata": {},
   "outputs": [],
   "source": [
    "#economic risk map\n"
   ]
  },
  {
   "cell_type": "code",
   "execution_count": null,
   "metadata": {},
   "outputs": [],
   "source": [
    "#human risk map\n"
   ]
  },
  {
   "cell_type": "code",
   "execution_count": null,
   "metadata": {},
   "outputs": [],
   "source": [
    "#live data\n"
   ]
  },
  {
   "cell_type": "code",
   "execution_count": null,
   "metadata": {},
   "outputs": [],
   "source": [
    "ft.plot_map(postcode_file='resources/postcodes_labelled.csv',\n",
    "        station_file= 'resources/stations.csv',\n",
    "        typical_file='example_data/typical_day.csv',\n",
    "        wet_file='example_data/wet_day.csv')"
   ]
  },
  {
   "cell_type": "code",
   "execution_count": null,
   "metadata": {},
   "outputs": [],
   "source": [
    "labelled_postcodes = pd.read_csv('../flood_tool/resources/postcodes_labelled.csv')\n",
    "labelled_postcodes['latitude'], labelled_postcodes['longitude'] = ft.get_gps_lat_long_from_easting_northing(\n",
    "    labelled_postcodes['easting'], labelled_postcodes['northing'], rads=False, dms=False\n",
    "    )\n",
    "labelled_postcodes"
   ]
  },
  {
   "cell_type": "code",
   "execution_count": null,
   "metadata": {},
   "outputs": [],
   "source": [
    "import folium\n",
    "import ipywidgets as widgets\n",
    "from IPython.display import display\n",
    "import matplotlib.pyplot as plt\n",
    "import matplotlib.colors as mcolors\n",
    "\n",
    "\n",
    "\n",
    "def update_map(R_min_filter, R_max_filter):\n",
    "    m = folium.Map(location=[labelled_postcodes[\"latitude\"].mean(), labelled_postcodes[\"longitude\"].mean()], zoom_start=6)\n",
    "    norm = mcolors.Normalize(vmin=labelled_postcodes['riskLabel'].min(), vmax=labelled_postcodes['riskLabel'].max())\n",
    "    cmap = plt.cm.coolwarm\n",
    "    for idx, row in labelled_postcodes.iterrows():\n",
    "        if R_min_filter <= row['riskLabel'] <= R_max_filter:\n",
    "            color = mcolors.to_hex(cmap(norm(row['riskLabel']))) \n",
    "            popup_text = f\"Postcode: {row['postcode']}, Risk-value: {row['riskLabel']},localAuthority: {row['localAuthority']},medianPrice: {row['medianPrice']}\"\n",
    "            folium.Circle(\n",
    "                location=(row[\"latitude\"], row[\"longitude\"]),\n",
    "                radius=5,\n",
    "                fill_opacity=0.3, \n",
    "                color=color,\n",
    "                fill=True,\n",
    "                fill_color=color,\n",
    "                popup=folium.Popup(popup_text, parse_html=True)\n",
    "            ).add_to(m)\n",
    "    \n",
    "    display(m)\n",
    "\n",
    "R_min_widget = widgets.FloatSlider(value=labelled_postcodes['riskLabel'].min(), min=labelled_postcodes['riskLabel'].min(), max=labelled_postcodes['riskLabel'].max(), description='R min:', continuous_update=False)\n",
    "R_max_widget = widgets.FloatSlider(value=labelled_postcodes['riskLabel'].max(), min=labelled_postcodes['riskLabel'].min(), max=labelled_postcodes['riskLabel'].max(), description='R max:', continuous_update=False)\n",
    "\n",
    "ui = widgets.VBox([R_min_widget, R_max_widget])\n",
    "out = widgets.interactive_output(update_map, {'R_min_filter': R_min_widget, 'R_max_filter': R_max_widget})\n",
    "\n",
    "display(ui, out)"
   ]
  },
  {
   "cell_type": "code",
   "execution_count": null,
   "metadata": {},
   "outputs": [],
   "source": []
  },
  {
   "cell_type": "code",
   "execution_count": null,
   "metadata": {},
   "outputs": [],
   "source": []
  },
  {
   "cell_type": "code",
   "execution_count": null,
   "metadata": {},
   "outputs": [],
   "source": []
  },
  {
   "cell_type": "code",
   "execution_count": null,
   "metadata": {},
   "outputs": [],
   "source": []
  }
 ],
 "metadata": {
  "kernelspec": {
   "display_name": "deluge",
   "language": "python",
   "name": "python3"
  },
  "language_info": {
   "codemirror_mode": {
    "name": "ipython",
    "version": 3
   },
   "file_extension": ".py",
   "mimetype": "text/x-python",
   "name": "python",
   "nbconvert_exporter": "python",
   "pygments_lexer": "ipython3",
   "version": "3.12.0"
  }
 },
 "nbformat": 4,
 "nbformat_minor": 2
}
